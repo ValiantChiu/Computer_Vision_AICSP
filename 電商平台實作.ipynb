{
  "nbformat": 4,
  "nbformat_minor": 0,
  "metadata": {
    "colab": {
      "provenance": [],
      "authorship_tag": "ABX9TyM0UDQRrfH9rYEHS7APGixK",
      "include_colab_link": true
    },
    "kernelspec": {
      "name": "python3",
      "display_name": "Python 3"
    },
    "language_info": {
      "name": "python"
    }
  },
  "cells": [
    {
      "cell_type": "markdown",
      "metadata": {
        "id": "view-in-github",
        "colab_type": "text"
      },
      "source": [
        "<a href=\"https://colab.research.google.com/github/ValiantChiu/Computer_Vision_AICSP/blob/main/%E9%9B%BB%E5%95%86%E5%B9%B3%E5%8F%B0%E5%AF%A6%E4%BD%9C.ipynb\" target=\"_parent\"><img src=\"https://colab.research.google.com/assets/colab-badge.svg\" alt=\"Open In Colab\"/></a>"
      ]
    },
    {
      "cell_type": "markdown",
      "source": [
        "# Homework 1"
      ],
      "metadata": {
        "id": "8A0hC5OxPAYm"
      }
    },
    {
      "cell_type": "markdown",
      "source": [
        "## Install packages"
      ],
      "metadata": {
        "id": "J0qCJHK1OffG"
      }
    },
    {
      "cell_type": "code",
      "source": [
        "!pip install selenium\n",
        "!apt-get update # to update ubuntu to correctly run apt install\n",
        "!apt install chromium-chromedriver\n",
        "!cp /usr/lib/chromium-browser/chromedriver /usr/bin"
      ],
      "metadata": {
        "id": "1IwxuemhyBm2"
      },
      "execution_count": null,
      "outputs": []
    },
    {
      "cell_type": "markdown",
      "source": [
        "## Import Packages"
      ],
      "metadata": {
        "id": "CYtnbcvROsWu"
      }
    },
    {
      "cell_type": "code",
      "source": [
        "from bs4 import BeautifulSoup\n",
        "from selenium import webdriver\n",
        "import sys\n",
        "sys.path.insert(0,'/usr/lib/chromium-browser/chromedriver')"
      ],
      "metadata": {
        "id": "nQp9juggGaGp"
      },
      "execution_count": null,
      "outputs": []
    },
    {
      "cell_type": "markdown",
      "source": [
        "## Query Data"
      ],
      "metadata": {
        "id": "bz3CIcdVOxJm"
      }
    },
    {
      "cell_type": "code",
      "source": [
        "chrome_options = webdriver.ChromeOptions()\n",
        "chrome_options.add_argument('--headless')\n",
        "chrome_options.add_argument('--no-sandbox')\n",
        "chrome_options.add_argument('--disable-dev-shm-usage')\n",
        "browser = webdriver.Chrome('chromedriver',chrome_options=chrome_options)\n",
        "\n",
        "url = 'https://www.books.com.tw/web/annual100'\n",
        "browser.get(url)"
      ],
      "metadata": {
        "id": "cKz9HrwzxB2X"
      },
      "execution_count": null,
      "outputs": []
    },
    {
      "cell_type": "code",
      "source": [
        "books_raw = BeautifulSoup(browser.page_source).\\\n",
        "find(\"div\", {\"class\": \"mod_d type02_m100 clearfix\"}).\\\n",
        "find(\"div\", {\"class\": \"table-container\"})\n",
        "books = books_raw.find_all('a')\n",
        "prices = books_raw.find_all('b')[2::3]"
      ],
      "metadata": {
        "id": "1vsk0M52GdN_"
      },
      "execution_count": null,
      "outputs": []
    },
    {
      "cell_type": "markdown",
      "source": [
        "## Clean the data"
      ],
      "metadata": {
        "id": "9osHXetpO29O"
      }
    },
    {
      "cell_type": "code",
      "source": [
        "get_title_link = lambda x: [str(x).split('\">')[1].replace(\"</a>\",\"\"), str(x).split('\">')[0].replace('<a href=\"',\"\")]"
      ],
      "metadata": {
        "id": "h19XuG3H3XOx"
      },
      "execution_count": null,
      "outputs": []
    },
    {
      "cell_type": "code",
      "source": [
        "with_book = lambda x: True if 'a href=\"https://www.books.com.tw/products' in str(x) and 'img' not in str(x) else False"
      ],
      "metadata": {
        "id": "olCfjZIE4iu4"
      },
      "execution_count": null,
      "outputs": []
    },
    {
      "cell_type": "code",
      "source": [
        "books_list = [get_title_link(book) for book in books if with_book(book)]"
      ],
      "metadata": {
        "id": "AQY0SiVe4qH_"
      },
      "execution_count": null,
      "outputs": []
    },
    {
      "cell_type": "code",
      "source": [
        "books_titles = [book[0] for book in books_list]\n",
        "books_links = [book[1] for book in books_list]\n",
        "books_prices = [str(price).replace('</b>','').replace('<b>','') for price in prices]"
      ],
      "metadata": {
        "id": "ilkDRelz5LMR"
      },
      "execution_count": null,
      "outputs": []
    },
    {
      "cell_type": "code",
      "source": [
        "books_dict = dict(zip(range(1,101), zip(books_titles, books_prices, books_links)))"
      ],
      "metadata": {
        "id": "6lRaSOhp6X0Z"
      },
      "execution_count": null,
      "outputs": []
    },
    {
      "cell_type": "markdown",
      "source": [
        "## User session"
      ],
      "metadata": {
        "id": "0td17UOeO7yG"
      }
    },
    {
      "cell_type": "code",
      "source": [
        "def check_input(customer_book_start_range, customer_book_end_range):\n",
        "    def check_input(start, end):\n",
        "        not_digit, out_of_range, wrong_sequence = False, False, False\n",
        "        not_digit = any([not start.isdigit(),not end.isdigit()])\n",
        "        if not not_digit:\n",
        "            out_of_range = eval(start) >=100 or eval(end) > 100 or eval(start) < 1 or eval(end) < 1\n",
        "            wrong_sequence = eval(start) > eval(end)\n",
        "        return any([not_digit, out_of_range, wrong_sequence])\n",
        "    while check_input(customer_book_start_range, customer_book_end_range):\n",
        "        print (\"Please check your format again(only number),\\nstart must smaller than end,\\nand not greater than 100 and smaller than 1 : \")\n",
        "        customer_book_start_range = input('start from:')\n",
        "        customer_book_end_range = input('end to:')\n",
        "    else:\n",
        "        return (customer_book_start_range, customer_book_end_range)"
      ],
      "metadata": {
        "id": "SpNhi3ZojFl9"
      },
      "execution_count": null,
      "outputs": []
    },
    {
      "cell_type": "code",
      "source": [
        "def show_books(start, end, books_dict):\n",
        "    total_price = 0\n",
        "    cart = []\n",
        "    for i in range(int(start), int(end) + 1):\n",
        "        title, price, link = books_dict[i]\n",
        "        print(\"\\nThe Books List: \")\n",
        "        print(f'{i} { title },\\n    Price: { price }, \\n    Link: { link }\\n')\n",
        "        total_price += int(price)\n",
        "        cart.append(title)\n",
        "    return total_price, cart"
      ],
      "metadata": {
        "id": "lnzmn8LNkWpQ"
      },
      "execution_count": null,
      "outputs": []
    },
    {
      "cell_type": "code",
      "source": [
        "customer_name = input('Welcome to Ｐｙｔｈｏｎ　ＡＩ book store,\\nPlease input your name:')\n",
        "customer_budget = eval(input('Please input your book budget:'))\n",
        "customer_book_start_range = input(f'\\n\\nHello, {customer_name}, we have top 100 books this year,\\nplease choose the rank range you want to know\\nstart from:')\n",
        "customer_book_end_range = input('end to:')\n",
        "customer_book_start_range, customer_book_end_range = check_input(customer_book_start_range, customer_book_end_range)\n",
        "\n",
        "is_buy = False\n",
        "is_exit = False\n",
        "is_first_visit = True\n",
        "customer_car = []\n",
        "while not is_buy or not is_exit:\n",
        "    if is_first_visit:\n",
        "        total_price, cart = show_books(customer_book_start_range, customer_book_end_range, books_dict)\n",
        "        is_buy = input(f'Total price is: {total_price}\\nBuy these books?(Y/N)').upper().strip() == 'Y'\n",
        "        budget_remained = customer_budget - total_price\n",
        "        is_first_visit = False\n",
        "    else:\n",
        "        print('Search new books')\n",
        "        customer_book_start_range = input('start from:')\n",
        "        customer_book_end_range = input('end to:')\n",
        "        customer_book_start_range, customer_book_end_range = check_input(customer_book_start_range, customer_book_end_range)\n",
        "        total_price, cart = show_books(customer_book_start_range, customer_book_end_range, books_dict)\n",
        "        budget_remained = customer_budget - total_price\n",
        "        is_buy = input(f'Total price is: {total_price}\\nBuy these books?(Y/N)').upper().strip() == 'Y'\n",
        "\n",
        "    if budget_remained >= 0 and is_buy :\n",
        "        print(f'budget remained { budget_remained }')\n",
        "        customer_budget = customer_budget - total_price\n",
        "        customer_car.append(cart)\n",
        "        is_exit = input(f'You already bought { customer_car }\\nExit store?(Y/N)').upper() == 'Y'\n",
        "        if is_exit: \n",
        "            print(f'\\n\\nGoodbye!{ customer_name }.')\n",
        "    else:\n",
        "        if budget_remained < 0 and is_buy:\n",
        "            print(f\"Unfortunately, you don't have enough money.\")\n",
        "            is_exit = input(f'You already bought { customer_car }\\nExit store?(Y/N)').upper() == 'Y'\n",
        "            if is_exit: \n",
        "                print(f'\\n\\nGoodbye!{ customer_name }.')\n",
        "                break;"
      ],
      "metadata": {
        "id": "lV_ft7FF6sol"
      },
      "execution_count": null,
      "outputs": []
    }
  ]
}