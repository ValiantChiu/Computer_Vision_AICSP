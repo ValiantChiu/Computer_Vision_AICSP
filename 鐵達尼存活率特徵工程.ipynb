{
  "nbformat": 4,
  "nbformat_minor": 0,
  "metadata": {
    "colab": {
      "provenance": [],
      "collapsed_sections": [
        "wLONafw6VieN"
      ],
      "include_colab_link": true
    },
    "kernelspec": {
      "name": "python3",
      "display_name": "Python 3"
    },
    "language_info": {
      "name": "python"
    }
  },
  "cells": [
    {
      "cell_type": "markdown",
      "metadata": {
        "id": "view-in-github",
        "colab_type": "text"
      },
      "source": [
        "<a href=\"https://colab.research.google.com/github/ValiantChiu/Computer_Vision_AICSP/blob/main/%E9%90%B5%E9%81%94%E5%B0%BC%E5%AD%98%E6%B4%BB%E7%8E%87%E7%89%B9%E5%BE%B5%E5%B7%A5%E7%A8%8B.ipynb\" target=\"_parent\"><img src=\"https://colab.research.google.com/assets/colab-badge.svg\" alt=\"Open In Colab\"/></a>"
      ]
    },
    {
      "cell_type": "markdown",
      "source": [
        "# 蘭婷"
      ],
      "metadata": {
        "id": "dEKTXqA8Gxob"
      }
    },
    {
      "cell_type": "code",
      "execution_count": null,
      "metadata": {
        "id": "53mQT8kvdSz7"
      },
      "outputs": [],
      "source": [
        "!pip install numpy\n",
        "!pip install matplotlib\n",
        "!pip install pandas\n",
        "!pip install seaborn\n",
        "!pip install scikit-learn"
      ]
    },
    {
      "cell_type": "code",
      "source": [
        "import pandas as pd\n",
        "import numpy as np\n",
        "import matplotlib.pyplot as plt\n",
        "plt.style.use('ggplot') \n",
        "import warnings\n",
        "warnings.simplefilter(action='ignore',category=FutureWarning)\n",
        "import seaborn as sns\n",
        "sns.set_style('ticks')\n",
        "from sklearn.ensemble import RandomForestClassifier"
      ],
      "metadata": {
        "id": "XBByzifvdtEC"
      },
      "execution_count": null,
      "outputs": []
    },
    {
      "cell_type": "code",
      "source": [
        "!git clone https://github.com/agconti/kaggle-titanic.git"
      ],
      "metadata": {
        "id": "IalSD0s1d7Wp"
      },
      "execution_count": null,
      "outputs": []
    },
    {
      "cell_type": "code",
      "source": [
        "df_train=pd.read_csv('./kaggle-titanic/data/train.csv')\n",
        "df_test=pd.read_csv('./kaggle-titanic/data/test.csv')\n",
        "data = df_train.append(df_test)"
      ],
      "metadata": {
        "id": "gR2mcKDPd_S3"
      },
      "execution_count": null,
      "outputs": []
    },
    {
      "cell_type": "code",
      "source": [
        "data"
      ],
      "metadata": {
        "id": "z3SzwSukeE_l"
      },
      "execution_count": null,
      "outputs": []
    },
    {
      "cell_type": "markdown",
      "source": [
        "特徵工程\n",
        "蘭婷 \n",
        "\n",
        "1.由於 SibSp 與 Parch 欄位所記錄的人數皆屬於家庭成員，所以我們將兩者相加創造新的特徵欄位稱家庭人數(Family_Size)。\n",
        "\n",
        "2.觀察 Family_Size 與生存率的關係，發現當家庭人數為4時的生存率(約 72.4%)明顯高於其他人數。"
      ],
      "metadata": {
        "id": "YbCiJb73eRwS"
      }
    },
    {
      "cell_type": "code",
      "source": [
        "# 創造新的特徵變數：家庭人數(Family_Size)\n",
        "data['Family_Size'] = data['SibSp'] + data['Parch'] + 1\n",
        "\n",
        "Survival_Rate = data[['Family_Size','Survived']].groupby(by=['Family_Size']).agg(np.mean)*100\n",
        "Survival_Rate.columns = ['Survival Rate(%)']\n",
        "Survival_Rate.reset_index()"
      ],
      "metadata": {
        "id": "qTD29QVteGwm"
      },
      "execution_count": null,
      "outputs": []
    },
    {
      "cell_type": "code",
      "source": [],
      "metadata": {
        "id": "McZGzidLePd9"
      },
      "execution_count": null,
      "outputs": []
    },
    {
      "cell_type": "markdown",
      "source": [
        "# 繼群"
      ],
      "metadata": {
        "id": "hBHrzu05Gy52"
      }
    },
    {
      "cell_type": "code",
      "source": [
        "from google.colab import files\n",
        "files.upload()"
      ],
      "metadata": {
        "id": "eE1MV3QFK3AW"
      },
      "execution_count": null,
      "outputs": []
    },
    {
      "cell_type": "markdown",
      "source": [
        "### Load data"
      ],
      "metadata": {
        "id": "RYJkdSzQPCLA"
      }
    },
    {
      "cell_type": "code",
      "source": [
        "!kaggle competitions download -c titanic\n",
        "!unzip titanic.zip"
      ],
      "metadata": {
        "id": "4ggU_2HHKCGl"
      },
      "execution_count": null,
      "outputs": []
    },
    {
      "cell_type": "code",
      "source": [
        "import pandas as pd\n",
        "import seaborn as sns\n",
        "import pandas"
      ],
      "metadata": {
        "id": "wQB-KofqG2WE"
      },
      "execution_count": null,
      "outputs": []
    },
    {
      "cell_type": "code",
      "source": [
        "df_train=pd.read_csv('/content/train.csv')\n",
        "df_test=pd.read_csv('/content/test.csv')\n",
        "\n",
        "df_train['sex_int'], _ = pd.factorize(df_train['Sex'])\n",
        "df_test['sex_int'], _ = pd.factorize(df_test['Sex'])\n",
        "\n",
        "df_train['Embarked'], _ = pd.factorize(df_train['Embarked'])\n",
        "df_test['Embarked'], _ = pd.factorize(df_test['Embarked'])"
      ],
      "metadata": {
        "id": "FV1oPmHVL0ev"
      },
      "execution_count": null,
      "outputs": []
    },
    {
      "cell_type": "markdown",
      "source": [
        "### Fill Mssing Value"
      ],
      "metadata": {
        "id": "lS4Wfi-wO8gi"
      }
    },
    {
      "cell_type": "code",
      "source": [
        "df_train['Age'] = df_train['Age'].interpolate()\n",
        "df_test['Age'] = df_test['Age'].interpolate()"
      ],
      "metadata": {
        "id": "jJLsAtduO8IA"
      },
      "execution_count": null,
      "outputs": []
    },
    {
      "cell_type": "code",
      "source": [
        "cabin_type = list(set([  i[0] for i in df_train.Cabin.values if type(i) != float]))\n",
        "encode = range(len(cabin_type))\n",
        "encode_dict = dict(zip(cabin_type, encode))\n",
        "cabin_int = [i if type(i) == float else encode_dict[i[0]] for i in df_train.Cabin.values ]\n",
        "\n",
        "df_train['cabin_int'] = cabin_int\n",
        "df_train['cabin_int'] = pd.to_numeric(df_train['cabin_int'])\n",
        "\n",
        "cabin_type = list(set([  i[0] for i in df_test.Cabin.values if type(i) != float]))\n",
        "encode = range(len(cabin_type))\n",
        "encode_dict = dict(zip(cabin_type, encode))\n",
        "cabin_int = [i if type(i) == float else encode_dict[i[0]] for i in df_test.Cabin.values ]\n",
        "df_test['cabin_int'] = cabin_int\n",
        "df_test['cabin_int'] = pd.to_numeric(df_test['cabin_int'])"
      ],
      "metadata": {
        "id": "w0ERFh3ad-5l"
      },
      "execution_count": null,
      "outputs": []
    },
    {
      "cell_type": "code",
      "source": [
        "df_train['cabin_int'] = df_train['cabin_int'].interpolate().fillna(0)\n",
        "df_test['cabin_int'] = df_test['cabin_int'].interpolate().fillna(0)"
      ],
      "metadata": {
        "id": "C_KTFXScttOH"
      },
      "execution_count": null,
      "outputs": []
    },
    {
      "cell_type": "markdown",
      "source": [
        "### Build Model"
      ],
      "metadata": {
        "id": "UMBC0yfSVF_F"
      }
    },
    {
      "cell_type": "code",
      "source": [
        "from sklearn.model_selection import train_test_split\n",
        "\n",
        "# Select the features we want to use to predict survival\n",
        "features = ['Age', 'sex_int', 'Pclass','cabin_int','Fare','SibSp','Embarked']\n",
        "X = df_train[features]\n",
        "y = df_train['Survived']\n",
        "\n",
        "# Split the data into training and test sets\n",
        "X_train, X_test, y_train, y_test = train_test_split(X, y, test_size=0.2)"
      ],
      "metadata": {
        "id": "xUoas-cAMmRy"
      },
      "execution_count": null,
      "outputs": []
    },
    {
      "cell_type": "markdown",
      "source": [
        "#### Basic model"
      ],
      "metadata": {
        "id": "wLONafw6VieN"
      }
    },
    {
      "cell_type": "code",
      "source": [
        "from sklearn.tree import DecisionTreeClassifier\n",
        "\n",
        "# Create a decision tree classifier\n",
        "clf = DecisionTreeClassifier()\n",
        "\n",
        "# Train the classifier on the training data\n",
        "clf.fit(X_train, y_train)"
      ],
      "metadata": {
        "id": "ymnf81r8MLNb"
      },
      "execution_count": null,
      "outputs": []
    },
    {
      "cell_type": "code",
      "source": [
        "# Make predictions on the test data\n",
        "predictions = clf.predict(X_test)\n",
        "\n",
        "# Evaluate the model's performance\n",
        "from sklearn.metrics import accuracy_score\n",
        "print(f'Accuracy: {accuracy_score(y_test, predictions)}')\n"
      ],
      "metadata": {
        "id": "eOgIqSGnPigG"
      },
      "execution_count": null,
      "outputs": []
    },
    {
      "cell_type": "code",
      "source": [
        "#Final Prediction\n",
        "predictions = clf.predict(df_test[features])"
      ],
      "metadata": {
        "id": "OLGE4z9DQz1-"
      },
      "execution_count": null,
      "outputs": []
    },
    {
      "cell_type": "markdown",
      "source": [
        "#### Xgboost"
      ],
      "metadata": {
        "id": "lnci5fa7VmlB"
      }
    },
    {
      "cell_type": "code",
      "source": [
        "import xgboost as xgb\n",
        "dtrain = xgb.DMatrix(X_train, label = y_train)\n",
        "dtest = xgb.DMatrix(X_test, label = y_test)\n",
        "params_1 = {\n",
        "    'booster': 'gbtree',\n",
        "    'max_depth': 60, \n",
        "    'learning_rate': 0.2,\n",
        "    'sample_type': 'uniform',\n",
        "    'normalize_type': 'tree',\n",
        "    'objective': 'binary:hinge',\n",
        "    'rate_drop': 0.3,\n",
        "    'n_estimators': 500\n",
        "}\n",
        "xgb_clf = xgb.train(params_1, dtrain)\n",
        "\n",
        "predictions = xgb_clf.predict(dtest)\n",
        "\n",
        "\n",
        "# Evaluate the model's performance\n",
        "from sklearn.metrics import accuracy_score\n",
        "print(f'Accuracy: {accuracy_score(y_test, predictions)}')\n",
        "\n",
        "#Final Prediction\n",
        "predictions = xgb_clf.predict(xgb.DMatrix(df_test[features]))"
      ],
      "metadata": {
        "id": "TYcM3gj9Vo4v"
      },
      "execution_count": null,
      "outputs": []
    },
    {
      "cell_type": "code",
      "source": [
        "predictions"
      ],
      "metadata": {
        "id": "ZNqmwtnQc66a"
      },
      "execution_count": null,
      "outputs": []
    },
    {
      "cell_type": "markdown",
      "source": [
        "#### Output result"
      ],
      "metadata": {
        "id": "shORjh8XVqFt"
      }
    },
    {
      "cell_type": "code",
      "source": [
        "df_test['Survived'] = predictions.astype(int)"
      ],
      "metadata": {
        "id": "fr0q2wmpQhzR"
      },
      "execution_count": null,
      "outputs": []
    },
    {
      "cell_type": "code",
      "source": [
        "df_test.loc[:,['PassengerId','Survived']].to_csv('submission.csv',index=False)"
      ],
      "metadata": {
        "id": "z7_L2vVpRWvu"
      },
      "execution_count": null,
      "outputs": []
    },
    {
      "cell_type": "code",
      "source": [
        "!kaggle competitions submit -c titanic -f submission.csv -m \"Kees Fifth prediction of AICSP program\""
      ],
      "metadata": {
        "id": "WRwAUUHlRIeo"
      },
      "execution_count": null,
      "outputs": []
    }
  ]
}