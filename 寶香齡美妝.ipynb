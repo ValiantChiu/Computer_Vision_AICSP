{
  "nbformat": 4,
  "nbformat_minor": 0,
  "metadata": {
    "colab": {
      "provenance": [],
      "include_colab_link": true
    },
    "kernelspec": {
      "name": "python3",
      "display_name": "Python 3"
    },
    "language_info": {
      "name": "python"
    }
  },
  "cells": [
    {
      "cell_type": "markdown",
      "metadata": {
        "id": "view-in-github",
        "colab_type": "text"
      },
      "source": [
        "<a href=\"https://colab.research.google.com/github/ValiantChiu/Computer_Vision_AICSP/blob/main/%E5%AF%B6%E9%A6%99%E9%BD%A1%E7%BE%8E%E5%A6%9D.ipynb\" target=\"_parent\"><img src=\"https://colab.research.google.com/assets/colab-badge.svg\" alt=\"Open In Colab\"/></a>"
      ]
    },
    {
      "cell_type": "markdown",
      "source": [
        "# 電商功能開發"
      ],
      "metadata": {
        "id": "kqwG8gtae0MQ"
      }
    },
    {
      "cell_type": "markdown",
      "source": [
        "## 李家賢"
      ],
      "metadata": {
        "id": "EgjJRn4JeHzu"
      }
    },
    {
      "cell_type": "code",
      "execution_count": null,
      "metadata": {
        "id": "Ol_ZuxTReD-d"
      },
      "outputs": [],
      "source": []
    },
    {
      "cell_type": "markdown",
      "source": [
        "## 陳寬宏"
      ],
      "metadata": {
        "id": "Jk23FUguehHu"
      }
    },
    {
      "cell_type": "code",
      "source": [],
      "metadata": {
        "id": "jFV0TbHdej0A"
      },
      "execution_count": null,
      "outputs": []
    },
    {
      "cell_type": "markdown",
      "source": [
        "## 賴明源"
      ],
      "metadata": {
        "id": "QDhOc4q9eQJ7"
      }
    },
    {
      "cell_type": "code",
      "source": [],
      "metadata": {
        "id": "e7fxtnFmelcA"
      },
      "execution_count": null,
      "outputs": []
    },
    {
      "cell_type": "markdown",
      "source": [
        "## 馮蘭婷"
      ],
      "metadata": {
        "id": "-jvS_y2Lel0O"
      }
    },
    {
      "cell_type": "code",
      "source": [
        "def register():\n",
        "    new_username = input('請輸入註冊用戶名:')\n",
        "    new_password = input('請輸入新用戶密碼:')\n",
        "    new_gender = input('請輸入性別:')\n",
        "    new_age = input('請輸入芳齡:')\n",
        "    new_cellphone = input('請輸入手機號碼:')\n",
        "    bank_money = 0\n",
        "    while True:\n",
        "        new_password_again = input('請再次確認新用戶密碼:')    \n",
        "        if new_password_again != new_password:                    \n",
        "            continue\n",
        "        else:\n",
        "            break         \n",
        "    print (\"==============恭喜你註冊成功:)==============\")"
      ],
      "metadata": {
        "id": "sJT3iLVlRBZd"
      },
      "execution_count": null,
      "outputs": []
    },
    {
      "cell_type": "code",
      "source": [
        "def start_program():\n",
        "    print('歡迎來到寶香齡美妝^-^')\n",
        "    products =[\n",
        "        [\"蘭蔻\",1500],\n",
        "        [\"SK-II\",1400],\n",
        "        [\"OLAY\",1300],\n",
        "        [\"歐姬兒\",1300],\n",
        "        [\"雅詩蘭黛\",1300],\n",
        "        [\"綠茶水平衡面霜\",1400],\n",
        "        [\"綠茶籽保濕霜\",1500],\n",
        "        [\"黛珂\",1500],\n",
        "        [\"蜂王乳保濕凝露\",1600],\n",
        "        [\"蜂王乳潤白QQ凝露\",1600],\n",
        "        [\"資生堂\",1300],\n",
        "    ]\n",
        "    moeny = input('請輸入您的總預算:')\n",
        "    money = 0\n",
        "    if moeny.isdigit(): \n",
        "        moeny = int(moeny)\n",
        "        lists = '---------------商品列表----------------\\n'\n",
        "\n",
        "        for index,item in enumerate(products):\n",
        "            lists += \"No.%d, %s, $%d\" %(index,item[0],item[1]) + \"\\n\"\n",
        "\n",
        "        print(lists)\n",
        "        cart = []\n",
        "        num = input(\"請輸入要購買的商品編號（按回車即購買，輸入 q 退出）：\")\n",
        "        while num != 'q':\n",
        "            if num.isdigit():\n",
        "                if(int(num) < len(products)):\n",
        "                    quantity = int(input(\"請輸入要購買數量：\"))\n",
        "                    item = products[int(num)]\n",
        "                    item.append(quantity)\n",
        "                    print(item)\n",
        "                    if moeny >= item[1]*item[2]:\n",
        "                        cart.append(item)\n",
        "                        print(cart)\n",
        "                        moeny -= item[1]*item[2]\n",
        "                        print(\"您已購買[¥ %s]，價值[$ %d]，數量[%d 個]，您的餘額：$ %d\" %(item[0],item[1],item[2],moeny))\n",
        "                    else:\n",
        "                        print(\"餘額不足...請選擇請他商品\")\n",
        "                else:\n",
        "                    print(\"商品編號不存在\")\n",
        "            else:\n",
        "                print(\"您輸入的編號好像不對哦...\")\n",
        "            num = input(\"請輸入要購買的商品編號（按回車即購買，輸入 q 退出）：\")\n",
        "\n",
        "        conclusion = \"--------------購物車列表-------------\\n\"\n",
        "        for index,item in enumerate(cart):\n",
        "            conclusion += \"No.%d, %s, $%d, 數量 %d 個\" %(index,item[0],item[1],item[2]) + \"\\n\"\n",
        "            # money = int(input(\"請輸入購物金額:\"))\n",
        "            money += item[1]*item[2]\n",
        "        if(money >= 1500):\n",
        "            if(money >= 3000):\n",
        "                money = money * 0.8\n",
        "                conclusion += \"打8折共 %d 元\\n\"%(money)+ \"\\n\"\n",
        "            elif(money >= 2500):\n",
        "                money = money * 0.85\n",
        "                conclusion += \"打85折共 %d 元\\n\"%(money)+ \"\\n\"\n",
        "            elif(money >= 2000):\n",
        "                money = money * 0.9\n",
        "                conclusion += \"打9折共 %d 元\\n\"%(money)+ \"\\n\"\n",
        "        else:\n",
        "            print(\"本次消費金額未滿$1500元無折扣\")\n",
        "            # print('本次消費共$ %d 元'%(money))\n",
        "            conclusion += '本次消費共$ %d 元'%(money)+ \"\\n\"\n",
        "            conclusion += \"餘額: \"+str(moeny)\n",
        "        print(conclusion)\n",
        "    else:\n",
        "        print('非常感謝您的訂購!歡迎下次再來^^')"
      ],
      "metadata": {
        "id": "7bpTOU3lRHaP"
      },
      "execution_count": null,
      "outputs": []
    },
    {
      "cell_type": "code",
      "source": [
        "register()\n",
        "start_program()"
      ],
      "metadata": {
        "id": "OR2AFCqyRRJG"
      },
      "execution_count": null,
      "outputs": []
    },
    {
      "cell_type": "markdown",
      "source": [
        "## 邱繼群"
      ],
      "metadata": {
        "id": "fiXDk_b9eq4G"
      }
    },
    {
      "cell_type": "code",
      "source": [
        "from google.colab import drive\n",
        "drive.mount('/content/drive')"
      ],
      "metadata": {
        "id": "yLg7BIF_oFzL"
      },
      "execution_count": null,
      "outputs": []
    },
    {
      "cell_type": "code",
      "source": [
        "!pip install pyngrok -q\n",
        "!pip install streamlit==1.0.0 -q\n",
        "import drive.MyDrive.AI_CV.ngrok_auth\n",
        "!streamlit run \"/content/drive/MyDrive/AI_CV/app/hello_world.py\" & npx localtunnel --port 8501"
      ],
      "metadata": {
        "id": "ru5dbGz6ceXH"
      },
      "execution_count": null,
      "outputs": []
    },
    {
      "cell_type": "code",
      "source": [],
      "metadata": {
        "id": "jMViFYsBmM6w"
      },
      "execution_count": null,
      "outputs": []
    },
    {
      "cell_type": "markdown",
      "source": [
        "### 整合版"
      ],
      "metadata": {
        "id": "uduCVq-RqNsh"
      }
    },
    {
      "cell_type": "code",
      "source": [],
      "metadata": {
        "id": "C4JT4BhyqWKg"
      },
      "execution_count": null,
      "outputs": []
    }
  ]
}