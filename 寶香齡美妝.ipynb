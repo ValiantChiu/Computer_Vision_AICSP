{
  "cells": [
    {
      "cell_type": "markdown",
      "metadata": {
        "id": "view-in-github",
        "colab_type": "text"
      },
      "source": [
        "<a href=\"https://colab.research.google.com/github/ValiantChiu/Computer_Vision_AICSP/blob/main/%E5%AF%B6%E9%A6%99%E9%BD%A1%E7%BE%8E%E5%A6%9D.ipynb\" target=\"_parent\"><img src=\"https://colab.research.google.com/assets/colab-badge.svg\" alt=\"Open In Colab\"/></a>"
      ]
    },
    {
      "cell_type": "markdown",
      "metadata": {
        "id": "kqwG8gtae0MQ"
      },
      "source": [
        "# 電商功能開發"
      ]
    },
    {
      "cell_type": "markdown",
      "metadata": {
        "id": "EgjJRn4JeHzu"
      },
      "source": [
        "## 李家賢"
      ]
    },
    {
      "cell_type": "code",
      "execution_count": null,
      "metadata": {
        "id": "Ol_ZuxTReD-d"
      },
      "outputs": [],
      "source": []
    },
    {
      "cell_type": "markdown",
      "metadata": {
        "id": "Jk23FUguehHu"
      },
      "source": [
        "## 陳寬宏"
      ]
    },
    {
      "cell_type": "code",
      "execution_count": null,
      "metadata": {
        "id": "jFV0TbHdej0A"
      },
      "outputs": [],
      "source": []
    },
    {
      "cell_type": "markdown",
      "metadata": {
        "id": "QDhOc4q9eQJ7"
      },
      "source": [
        "## 賴明源"
      ]
    },
    {
      "cell_type": "markdown",
      "metadata": {
        "id": "OVxeXpMf6qL6"
      },
      "source": [
        "### 推薦功能"
      ]
    },
    {
      "cell_type": "code",
      "execution_count": null,
      "metadata": {
        "id": "e7fxtnFmelcA"
      },
      "outputs": [],
      "source": [
        "def product_recommendation(age,sex):\n",
        "  if age < 30 and sex == 'female':\n",
        "    print('猜妳也喜歡保濕及乳液產品')\n",
        "  elif age >= 30 and age < 50 and sex == 'female':\n",
        "    print('除了保濕、乳液產品，也推薦妳使用我們的隔離霜、淡妝產品')\n",
        "  else:\n",
        "    print('本月各式化妝品都有促銷，歡迎選購')\n",
        "\n",
        "\n",
        "# product_recommendation(21,'female')"
      ]
    },
    {
      "cell_type": "markdown",
      "metadata": {
        "id": "4IWyA4kF6l2C"
      },
      "source": [
        "### 壽星九折"
      ]
    },
    {
      "cell_type": "code",
      "execution_count": null,
      "metadata": {
        "id": "JtewvcqUD8SK"
      },
      "outputs": [],
      "source": [
        "\n",
        "import datetime\n",
        "\n",
        "def birthday_discount_check(birthday_month, purchase_amount):\n",
        "  now = datetime.datetime.now()\n",
        "  current_month = now.month\n",
        "  if current_month == birthday_month:\n",
        "    discounted_amount = int(purchase_amount * 0.9)\n",
        "    return discounted_amount\n",
        "  else:\n",
        "    return purchase_amount\n",
        "\n",
        "# price=birthday_discount_check(11, 99)\n",
        "# print(price)"
      ]
    },
    {
      "cell_type": "markdown",
      "metadata": {
        "id": "-jvS_y2Lel0O"
      },
      "source": [
        "## 馮蘭婷"
      ]
    },
    {
      "cell_type": "markdown",
      "metadata": {
        "id": "f7MVcRjw5fW8"
      },
      "source": [
        "### 註冊"
      ]
    },
    {
      "cell_type": "code",
      "execution_count": null,
      "metadata": {
        "id": "sJT3iLVlRBZd"
      },
      "outputs": [],
      "source": [
        "def register():\n",
        "    new_username = input('請輸入註冊用戶名:')\n",
        "    new_password = input('請輸入新用戶密碼:')\n",
        "    new_gender = input('請輸入性別:')\n",
        "    new_age = input('請輸入芳齡:')\n",
        "    new_cellphone = input('請輸入手機號碼:')\n",
        "    #需要加入生日 \n",
        "    bank_money = 0\n",
        "    #一開始就沒錢?\n",
        "    while True:\n",
        "        new_password_again = input('請再次確認新用戶密碼:')    \n",
        "        if new_password_again != new_password:                    \n",
        "            continue\n",
        "        else:\n",
        "            break         \n",
        "    print (\"==============恭喜你註冊成功:)==============\")"
      ]
    },
    {
      "cell_type": "markdown",
      "metadata": {
        "id": "OvH7NHOd5bBQ"
      },
      "source": [
        "### 產品清單 打折功能 和購買功能"
      ]
    },
    {
      "cell_type": "code",
      "execution_count": null,
      "metadata": {
        "id": "7bpTOU3lRHaP"
      },
      "outputs": [],
      "source": [
        "#要拆分\n",
        "def start_program():\n",
        "    print('歡迎來到寶香齡美妝^-^')\n",
        "    products =[\n",
        "        [\"蘭蔻\",1500],\n",
        "        [\"SK-II\",1400],\n",
        "        [\"OLAY\",1300],\n",
        "        [\"歐姬兒\",1300],\n",
        "        [\"雅詩蘭黛\",1300],\n",
        "        [\"綠茶水平衡面霜\",1400],\n",
        "        [\"綠茶籽保濕霜\",1500],\n",
        "        [\"黛珂\",1500],\n",
        "        [\"蜂王乳保濕凝露\",1600],\n",
        "        [\"蜂王乳潤白QQ凝露\",1600],\n",
        "        [\"資生堂\",1300],\n",
        "    ]\n",
        "    moeny = input('特惠活動滿八千免運，請輸入您的總預算:')\n",
        "    money = 0\n",
        "    if moeny.isdigit(): \n",
        "        moeny = int(moeny)\n",
        "        lists = '---------------商品列表----------------\\n'\n",
        "\n",
        "        for index,item in enumerate(products):\n",
        "            lists += \"No.%d, %s, $%d\" %(index,item[0],item[1]) + \"\\n\"\n",
        "\n",
        "        print(lists)\n",
        "        cart = []\n",
        "        num = input(\"請輸入要購買的商品編號（按回車即購買，輸入 q 退出）：\")\n",
        "        while num != 'q':\n",
        "            if num.isdigit():\n",
        "                if(int(num) < len(products)):\n",
        "                    quantity = int(input(\"請輸入要購買數量：\"))\n",
        "                    item = products[int(num)]\n",
        "                    item.append(quantity)\n",
        "                    print(item)\n",
        "                    if moeny >= item[1]*item[2]:\n",
        "                        cart.append(item)\n",
        "                        print(cart)\n",
        "                        moeny -= item[1]*item[2]\n",
        "                        print(\"您已購買[¥ %s]，價值[$ %d]，數量[%d 個]，您的餘額：$ %d\" %(item[0],item[1],item[2],moeny))\n",
        "                    else:\n",
        "                        print(\"餘額不足...請選擇請他商品\")\n",
        "                else:\n",
        "                    print(\"商品編號不存在\")\n",
        "            else:\n",
        "                print(\"您輸入的編號好像不對哦...\")\n",
        "            num = input(\"請輸入要購買的商品編號（按回車即購買，輸入 q 退出）：\")\n",
        "\n",
        "        conclusion = \"--------------購物車列表-------------\\n\"\n",
        "        for index,item in enumerate(cart):\n",
        "            conclusion += \"No.%d, %s, $%d, 數量 %d 個\" %(index,item[0],item[1],item[2]) + \"\\n\"\n",
        "            # money = int(input(\"請輸入購物金額:\"))\n",
        "            money += item[1]*item[2]\n",
        "        if(money >= 1500):\n",
        "            #如果消費1500元到1999元是不會有折扣的(Bug)\n",
        "            if(money >= 8000):\n",
        "                money = money * 0.8\n",
        "                conclusion += \"恭喜達到免運活動，商品滿三千打8折共 %d 元\\n\"%(money)+ \"\\n\"\n",
        "            elif(money >= 3000):\n",
        "                money = money * 0.8+250\n",
        "                conclusion += \"恭喜商品滿三千打8折，運費250，含運共 %d 元\\n\"%(money)+ \"\\n\"\n",
        "            elif(money >= 2500):\n",
        "                money = money * 0.85+250\n",
        "                conclusion += \"恭喜商品滿兩千五打8折，運費250，含運共 %d 元\\n\"%(money)+ \"\\n\"\n",
        "            elif(money >= 2000):\n",
        "                money = money * 0.9+250\n",
        "                conclusion += \"恭喜商品滿兩千打9折，運費250，含運共 %d 元\\n\"%(money)+ \"\\n\"\n",
        "        else:\n",
        "            money = money +250\n",
        "            print(\"本次消費金額未滿$1500元無折扣，運費250\")\n",
        "            # print('本次消費共$ %d 元'%(money))\n",
        "            conclusion += '本次消費共$ %d 元'%(money)+ \"\\n\"\n",
        "            conclusion += \"餘額: \"+str(moeny)\n",
        "        print(conclusion)\n",
        "    else:\n",
        "        print('非常感謝您的訂購!歡迎下次再來^^')"
      ]
    },
    {
      "cell_type": "code",
      "execution_count": null,
      "metadata": {
        "id": "OR2AFCqyRRJG"
      },
      "outputs": [],
      "source": [
        "register()\n",
        "start_program()"
      ]
    },
    {
      "cell_type": "markdown",
      "metadata": {
        "id": "fiXDk_b9eq4G"
      },
      "source": [
        "## 邱繼群"
      ]
    },
    {
      "cell_type": "code",
      "execution_count": null,
      "metadata": {
        "id": "yLg7BIF_oFzL"
      },
      "outputs": [],
      "source": [
        "from google.colab import drive\n",
        "drive.mount('/content/drive')"
      ]
    },
    {
      "cell_type": "code",
      "execution_count": null,
      "metadata": {
        "id": "ru5dbGz6ceXH"
      },
      "outputs": [],
      "source": [
        "!pip install pyngrok -q\n",
        "!pip install streamlit==1.0.0 -q\n",
        "import drive.MyDrive.AI_CV.ngrok_auth\n"
      ]
    },
    {
      "cell_type": "code",
      "source": [
        "!streamlit run \"/content/drive/MyDrive/AI_CV/app/hello.py\" & npx localtunnel --port 8501"
      ],
      "metadata": {
        "id": "65SzhWlSTrn0"
      },
      "execution_count": null,
      "outputs": []
    },
    {
      "cell_type": "code",
      "execution_count": null,
      "metadata": {
        "id": "jMViFYsBmM6w"
      },
      "outputs": [],
      "source": [
        "!python -V"
      ]
    },
    {
      "cell_type": "markdown",
      "metadata": {
        "id": "uduCVq-RqNsh"
      },
      "source": [
        "## 整合版"
      ]
    },
    {
      "cell_type": "markdown",
      "metadata": {
        "id": "mtxMLdNCAGjg"
      },
      "source": [
        "#### 註冊功能"
      ]
    },
    {
      "cell_type": "code",
      "execution_count": null,
      "metadata": {
        "id": "kmO5iPamACur"
      },
      "outputs": [],
      "source": [
        "def register():\n",
        "    new_username = input('請輸入註冊用戶名:')\n",
        "    new_password = input('請輸入新用戶密碼:')\n",
        "    new_gender = input('請輸入性別:')\n",
        "    new_age = input('請輸入芳齡:')\n",
        "    new_cellphone = input('請輸入手機號碼:')"
      ]
    },
    {
      "cell_type": "markdown",
      "metadata": {
        "id": "3LAbuu4e3sr8"
      },
      "source": [
        "### 購物車"
      ]
    },
    {
      "cell_type": "code",
      "execution_count": null,
      "metadata": {
        "id": "5I1AFykU3uZL"
      },
      "outputs": [],
      "source": [
        "from collections import defaultdict\n",
        "cart = defaultdict(int)"
      ]
    },
    {
      "cell_type": "markdown",
      "metadata": {
        "id": "e561x322wjLY"
      },
      "source": [
        "### 商品清單"
      ]
    },
    {
      "cell_type": "code",
      "execution_count": null,
      "metadata": {
        "id": "gJMSh-YPwiyw"
      },
      "outputs": [],
      "source": [
        "products_list = {\n",
        "\"蘭蔻\": 1500,\n",
        "\"SK-II\": 1400,\n",
        "\"OLAY\": 1300,\n",
        "\"歐姬兒\": 1300,\n",
        "\"雅詩蘭黛\": 1300,\n",
        "\"綠茶水平衡面霜\": 1400,\n",
        "\"綠茶籽保濕霜\": 1500,\n",
        "\"黛珂\": 1500,\n",
        "\"蜂王乳保濕凝露\": 1600,\n",
        "\"蜂王乳潤白QQ凝露\": 1600,\n",
        "\"資生堂\": 1300\n",
        "}"
      ]
    },
    {
      "cell_type": "markdown",
      "metadata": {
        "id": "4Msw-Aif1lFA"
      },
      "source": [
        "### 購買"
      ]
    },
    {
      "cell_type": "code",
      "execution_count": null,
      "metadata": {
        "id": "-Fk8QXnLxdmA"
      },
      "outputs": [],
      "source": [
        "def buy(item, number, cart):\n",
        "    cart[item] = cart[item] + item * number\n",
        "    return cart"
      ]
    },
    {
      "cell_type": "markdown",
      "metadata": {
        "id": "zRbuiERUzo8M"
      },
      "source": [
        "### 折扣"
      ]
    },
    {
      "cell_type": "code",
      "execution_count": null,
      "metadata": {
        "id": "qcDiNWaLzzhV"
      },
      "outputs": [],
      "source": [
        "def discount(money):\n",
        "        #如果消費1500元到1999元是不會有折扣的(Bug)\n",
        "    if(money >= 8000):\n",
        "        money = money * 0.8\n",
        "        conclusion = \"恭喜達到免運活動，商品滿三千打8折共 %d 元\"%(money) \n",
        "    elif(money >= 3000):\n",
        "        money = money * 0.8 + 250\n",
        "        conclusion = \"恭喜商品滿三千打8折，運費250，含運共 %d 元\"%(money) \n",
        "    elif(money >= 2500):\n",
        "        money = money * 0.85 + 250\n",
        "        conclusion = \"恭喜商品滿兩千五打8折，運費250，含運共 %d 元\"%(money) \n",
        "    elif(money >= 2000):\n",
        "        money = money * 0.9 + 250\n",
        "        conclusion = \"恭喜商品滿兩千打9折，運費250，含運共 %d 元\"%(money) \n",
        "    else:\n",
        "        money = money + 250\n",
        "    return money, conclusion"
      ]
    },
    {
      "cell_type": "code",
      "source": [],
      "metadata": {
        "id": "fQZuS5LR8-8r"
      },
      "execution_count": null,
      "outputs": []
    }
  ],
  "metadata": {
    "colab": {
      "provenance": [],
      "include_colab_link": true
    },
    "kernelspec": {
      "display_name": "Python 3",
      "name": "python3"
    },
    "language_info": {
      "name": "python"
    }
  },
  "nbformat": 4,
  "nbformat_minor": 0
}